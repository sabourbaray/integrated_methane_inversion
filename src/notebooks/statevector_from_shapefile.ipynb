{
 "cells": [
  {
   "cell_type": "markdown",
   "metadata": {},
   "source": [
    "# Generate state vector netcdf file from shape file"
   ]
  },
  {
   "cell_type": "markdown",
   "metadata": {},
   "source": [
    "Use this notebook to create an IMI state vector file for an irregular region of interest using a shape file for the region.\n",
    "\n",
    "- Step 1: Upload the shape file to EC2\n",
    "- Step 2: Copy the path to the shape file into the configuration file (config.yml)\n",
    "- Step 3: Open this notebook (instructions: https://docs.aws.amazon.com/dlami/latest/devguide/setup-jupyter.html)\n",
    "- Step 4: Run the notebook\n",
    "- Step 5: When satisfied with the state vector, set save switch in final cell to True and save the netcdf\n",
    "\n",
    "Example here is for the Permian Basin."
   ]
  },
  {
   "cell_type": "code",
   "execution_count": 48,
   "metadata": {},
   "outputs": [],
   "source": [
    "import sys\n",
    "import xarray as xr \n",
    "import numpy as np\n",
    "import regionmask\n",
    "import xesmf as xe\n",
    "import geopandas as gpd\n",
    "import pandas as pd\n",
    "import cartopy.crs as ccrs\n",
    "from sklearn.cluster import KMeans\n",
    "import colorcet as cc\n",
    "import matplotlib.pyplot as plt\n",
    "import yaml\n",
    "import warnings; warnings.filterwarnings(action='ignore')\n",
    "sys.path.append('/home/ubuntu/integrated_methane_inversion/src/')\n",
    "#from utilities.utils import download_landcover_files\n",
    "%matplotlib inline"
   ]
  },
  {
   "cell_type": "markdown",
   "metadata": {},
   "source": [
    "## Setup"
   ]
  },
  {
   "cell_type": "code",
   "execution_count": 49,
   "metadata": {},
   "outputs": [],
   "source": [
    "# Read config file\n",
    "config = yaml.load(open(\"/home/rsb001/imi/configs/absk_052018_102020_bc2.2_buf2_v3.yml\"), Loader=yaml.FullLoader)"
   ]
  },
  {
   "cell_type": "code",
   "execution_count": 50,
   "metadata": {},
   "outputs": [],
   "source": [
    "# Download landcover files from s3 if not already present\n",
    "#download_landcover_files(config)"
   ]
  },
  {
   "cell_type": "code",
   "execution_count": 51,
   "metadata": {},
   "outputs": [
    {
     "data": {
      "text/html": [
       "<div>\n",
       "<style scoped>\n",
       "    .dataframe tbody tr th:only-of-type {\n",
       "        vertical-align: middle;\n",
       "    }\n",
       "\n",
       "    .dataframe tbody tr th {\n",
       "        vertical-align: top;\n",
       "    }\n",
       "\n",
       "    .dataframe thead th {\n",
       "        text-align: right;\n",
       "    }\n",
       "</style>\n",
       "<table border=\"1\" class=\"dataframe\">\n",
       "  <thead>\n",
       "    <tr style=\"text-align: right;\">\n",
       "      <th></th>\n",
       "      <th>PRUID</th>\n",
       "      <th>PRNAME</th>\n",
       "      <th>PRENAME</th>\n",
       "      <th>PRFNAME</th>\n",
       "      <th>PREABBR</th>\n",
       "      <th>PRFABBR</th>\n",
       "      <th>geometry</th>\n",
       "    </tr>\n",
       "  </thead>\n",
       "  <tbody>\n",
       "    <tr>\n",
       "      <th>0</th>\n",
       "      <td>47</td>\n",
       "      <td>Saskatchewan</td>\n",
       "      <td>Saskatchewan</td>\n",
       "      <td>Saskatchewan</td>\n",
       "      <td>Sask.</td>\n",
       "      <td>Sask.</td>\n",
       "      <td>POLYGON ((-109.63750 60.00006, -109.62500 60.0...</td>\n",
       "    </tr>\n",
       "    <tr>\n",
       "      <th>1</th>\n",
       "      <td>48</td>\n",
       "      <td>Alberta</td>\n",
       "      <td>Alberta</td>\n",
       "      <td>Alberta</td>\n",
       "      <td>Alta.</td>\n",
       "      <td>Alb.</td>\n",
       "      <td>POLYGON ((-110.00000 59.95257, -110.00000 59.9...</td>\n",
       "    </tr>\n",
       "  </tbody>\n",
       "</table>\n",
       "</div>"
      ],
      "text/plain": [
       "  PRUID        PRNAME       PRENAME       PRFNAME PREABBR PRFABBR  \\\n",
       "0    47  Saskatchewan  Saskatchewan  Saskatchewan   Sask.   Sask.   \n",
       "1    48       Alberta       Alberta       Alberta   Alta.    Alb.   \n",
       "\n",
       "                                            geometry  \n",
       "0  POLYGON ((-109.63750 60.00006, -109.62500 60.0...  \n",
       "1  POLYGON ((-110.00000 59.95257, -110.00000 59.9...  "
      ]
     },
     "execution_count": 51,
     "metadata": {},
     "output_type": "execute_result"
    }
   ],
   "source": [
    "# Open shape file with geopandas\n",
    "shape = gpd.read_file('/home/rsb001/sitestore/data/masks/absk/absk.shp')\n",
    "shape"
   ]
  },
  {
   "cell_type": "code",
   "execution_count": 52,
   "metadata": {},
   "outputs": [],
   "source": [
    "# Define min/max latitude and longitude for inversion domain\n",
    "bufferdeg = config['BufferDeg']\n",
    "bounds = shape.bounds\n",
    "lon_min = bounds['minx'][0] - bufferdeg\n",
    "lon_max = bounds['maxx'][0] + bufferdeg\n",
    "lat_min = bounds['miny'][0] - bufferdeg\n",
    "lat_max = bounds['maxy'][0] + bufferdeg\n",
    "\n",
    "# Create lat/lon grid (can increase dlon, dlat if the regridding in next steps is slow)\n",
    "dlon = 0.01\n",
    "dlat = 0.01\n",
    "lon = np.arange(lon_min, lon_max+dlon, dlon)\n",
    "lat = np.arange(lat_min, lat_max+dlat, dlat)\n",
    "\n",
    "# Inversion spatial resolution\n",
    "if config['Res'] == '0.25x0.3125':\n",
    "    lat_res = 0.25\n",
    "    lon_res = 0.3125\n",
    "elif config['Res'] == '0.5x0.625':\n",
    "    lat_res = 0.5\n",
    "    lon_res = 0.625"
   ]
  },
  {
   "cell_type": "markdown",
   "metadata": {},
   "source": [
    "## Create region of interest mask from shape file"
   ]
  },
  {
   "cell_type": "code",
   "execution_count": 53,
   "metadata": {},
   "outputs": [
    {
     "data": {
      "image/png": "[encoded data removed]",
      "text/plain": [
       "<Figure size 432x288 with 2 Axes>"
      ]
     },
     "metadata": {
      "needs_background": "light"
     },
     "output_type": "display_data"
    }
   ],
   "source": [
    "# Make mask from shape file\n",
    "mask = regionmask.mask_geopandas(shape, lon, lat) + 1 # Add 1 so the mask values are 1 instead of 0\n",
    "\n",
    "# View the mask in the inversion domain\n",
    "f, ax = plt.subplots(subplot_kw=dict(projection=ccrs.PlateCarree()))\n",
    "mask.plot(\n",
    "    ax=ax,\n",
    "    transform=ccrs.PlateCarree(),\n",
    "    add_colorbar=True,\n",
    ")\n",
    "ax.coastlines();"
   ]
  },
  {
   "cell_type": "markdown",
   "metadata": {},
   "source": [
    "## Regrid mask to 0.25 x 0.3125 or 0.5x0.625 grid"
   ]
  },
  {
   "cell_type": "code",
   "execution_count": 54,
   "metadata": {},
   "outputs": [
    {
     "data": {
      "text/plain": [
       "xESMF Regridder \n",
       "Regridding algorithm:       nearest_s2d \n",
       "Weight filename:            nearest_s2d_1502x1266_61x41.nc \n",
       "Reuse pre-computed weights? False \n",
       "Input grid shape:           (1502, 1266) \n",
       "Output grid shape:          (61, 41) \n",
       "Periodic in longitude?      False"
      ]
     },
     "execution_count": 54,
     "metadata": {},
     "output_type": "execute_result"
    }
   ],
   "source": [
    "# Need to regrid to the grid HEMCO expects\n",
    "reference_lat_grid = np.arange(-90 , 90+lat_res , lat_res)\n",
    "reference_lon_grid = np.arange(-180, 180+lon_res, lon_res)\n",
    "\n",
    "# Find closest reference coordinates to selected lat/lon bounds\n",
    "lat_min = reference_lat_grid[np.abs(reference_lat_grid - lat_min).argmin()]\n",
    "lon_min = reference_lon_grid[np.abs(reference_lon_grid - lon_min).argmin()]\n",
    "lat_max = reference_lat_grid[np.abs(reference_lat_grid - lat_max).argmin()]\n",
    "lon_max = reference_lon_grid[np.abs(reference_lon_grid - lon_max).argmin()]\n",
    "\n",
    "# Create an xESMF regridder object to resample the mask on the grid HEMCO expects\n",
    "new_lat_grid = np.arange(lat_min, lat_max+lat_res, lat_res)\n",
    "new_lon_grid = np.arange(lon_min, lon_max+lon_res, lon_res)\n",
    "ds_out = xr.Dataset({'lat': (['lat'], new_lat_grid),\n",
    "                     'lon': (['lon'], new_lon_grid),\n",
    "                    }\n",
    "                   )\n",
    "#ds_out = ds_out.rename({'longitude': 'lon', 'latitude': 'lat'})\n",
    "\n",
    "regridder = xe.Regridder(mask, ds_out, 'nearest_s2d')\n",
    "regridder"
   ]
  },
  {
   "cell_type": "code",
   "execution_count": 55,
   "metadata": {},
   "outputs": [
    {
     "data": {
      "image/png": "[encoded data removed]",
      "text/plain": [
       "<Figure size 432x288 with 1 Axes>"
      ]
     },
     "metadata": {
      "needs_background": "light"
     },
     "output_type": "display_data"
    }
   ],
   "source": [
    "# Regrid the mask\n",
    "mask = regridder(mask)\n",
    "\n",
    "# View the regridded mask in the inversion domain\n",
    "f, ax = plt.subplots(subplot_kw=dict(projection=ccrs.PlateCarree()))\n",
    "mask.plot(\n",
    "    ax=ax,\n",
    "    transform=ccrs.PlateCarree(),\n",
    "    add_colorbar=False,\n",
    ")\n",
    "ax.coastlines();"
   ]
  },
  {
   "cell_type": "markdown",
   "metadata": {},
   "source": [
    "## Deal with buffer areas and pixels over water"
   ]
  },
  {
   "cell_type": "code",
   "execution_count": 56,
   "metadata": {},
   "outputs": [],
   "source": [
    "state_vector = mask.copy()\n",
    "\n",
    "# Set pixels in buffer areas to 0\n",
    "state_vector.values[mask.isnull()] = 0\n",
    "state_vector.values[mask.isnull()] = 0"
   ]
  },
  {
   "cell_type": "code",
   "execution_count": 57,
   "metadata": {},
   "outputs": [],
   "source": [
    "# Get path to land cover file\n",
    "if config['Met'] == 'geosfp':\n",
    "    met_token1 = 'GEOSFP'\n",
    "    met_token2 = 'GEOS_FP'\n",
    "    constYr = 2011\n",
    "    gridRes = '025x03125'\n",
    "elif config['Met'] == 'merra2':\n",
    "    met_token1 = 'MERRA2'\n",
    "    met_token2 = 'MERRA2'\n",
    "    constYr = 2015\n",
    "    gridRes = '05x0625'\n",
    "\n",
    "gridDir = f'{config[\"Res\"]}_{config[\"NestedRegion\"]}'\n",
    "land_cover_file = f'{met_token1}.{constYr}0101.CN.{gridRes}.{config[\"NestedRegion\"]}.nc'\n",
    "land_cover_pth = f'/home/rsb001/sitestore/geoschem/ExtData/GEOS_{gridDir}/{met_token2}/{constYr}/01/{land_cover_file}'"
   ]
  },
  {
   "cell_type": "code",
   "execution_count": 58,
   "metadata": {},
   "outputs": [
    {
     "ename": "IndexError",
     "evalue": "boolean index did not match indexed array along dimension 0; dimension is 61 but corresponding boolean dimension is 53",
     "output_type": "error",
     "traceback": [
      "\u001b[0;31m---------------------------------------------------------------------------\u001b[0m",
      "\u001b[0;31mIndexError\u001b[0m                                Traceback (most recent call last)",
      "Input \u001b[0;32mIn [58]\u001b[0m, in \u001b[0;36m<cell line: 12>\u001b[0;34m()\u001b[0m\n\u001b[1;32m     12\u001b[0m \u001b[38;5;28;01mif\u001b[39;00m config[\u001b[38;5;124m'\u001b[39m\u001b[38;5;124mLandThreshold\u001b[39m\u001b[38;5;124m'\u001b[39m]:\n\u001b[1;32m     13\u001b[0m     \u001b[38;5;66;03m# Where there is no land, replace with 0\u001b[39;00m\n\u001b[1;32m     14\u001b[0m     land \u001b[38;5;241m=\u001b[39m lc\u001b[38;5;241m.\u001b[39mwhere(lc \u001b[38;5;241m>\u001b[39m config[\u001b[38;5;124m'\u001b[39m\u001b[38;5;124mLandThreshold\u001b[39m\u001b[38;5;124m'\u001b[39m])\n\u001b[0;32m---> 15\u001b[0m     state_vector\u001b[38;5;241m.\u001b[39mvalues[land\u001b[38;5;241m.\u001b[39misnull()] \u001b[38;5;241m=\u001b[39m \u001b[38;5;241m0\u001b[39m\n",
      "\u001b[0;31mIndexError\u001b[0m: boolean index did not match indexed array along dimension 0; dimension is 61 but corresponding boolean dimension is 53"
     ]
    }
   ],
   "source": [
    "# Load land cover data\n",
    "lc = xr.load_dataset(land_cover_pth)\n",
    "\n",
    "# Group together\n",
    "lc = (lc['FRLAKE'] + lc['FRLAND'] + lc['FRLANDIC']).drop('time').squeeze()\n",
    "    \n",
    "# Subset the area of interest\n",
    "lc = lc.isel(lon=lc.lon>=lon_min, lat=lc.lat>=lat_min)\n",
    "lc = lc.isel(lon=lc.lon<=lon_max, lat=lc.lat<=lat_max)\n",
    "\n",
    "# Set pixels over water to 0\n",
    "if config['LandThreshold']:\n",
    "    # Where there is no land, replace with 0\n",
    "    land = lc.where(lc > config['LandThreshold'])\n",
    "    state_vector.values[land.isnull()] = 0"
   ]
  },
  {
   "cell_type": "markdown",
   "metadata": {},
   "source": [
    "## Label the state vector elements"
   ]
  },
  {
   "cell_type": "code",
   "execution_count": 59,
   "metadata": {},
   "outputs": [
    {
     "data": {
      "image/png": "[encoded data removed]",
      "text/plain": [
       "<Figure size 432x288 with 1 Axes>"
      ]
     },
     "metadata": {
      "needs_background": "light"
     },
     "output_type": "display_data"
    }
   ],
   "source": [
    "# Enumerate state vector elements\n",
    "n_lat = len(new_lat_grid)\n",
    "n_lon = len(new_lon_grid)\n",
    "count = 1\n",
    "for r in range(n_lat):\n",
    "    for c in range(n_lon):\n",
    "        if state_vector[r,c] == 1:\n",
    "            state_vector[r,c] = count\n",
    "            count += 1\n",
    "\n",
    "# Now set pixels over water to NaN\n",
    "if config['LandThreshold']:\n",
    "    # Where there is no land, replace with NaN\n",
    "    state_vector = state_vector.where(lc > config['LandThreshold'])\n",
    "            \n",
    "# Plot\n",
    "f, ax = plt.subplots(subplot_kw=dict(projection=ccrs.PlateCarree()))\n",
    "state_vector.plot(\n",
    "    ax=ax,\n",
    "    transform=ccrs.PlateCarree(),\n",
    "    cmap=cc.cm.glasbey,\n",
    "    add_colorbar=False,\n",
    ")\n",
    "ax.coastlines();"
   ]
  },
  {
   "cell_type": "markdown",
   "metadata": {},
   "source": [
    "## Label the buffer clusters"
   ]
  },
  {
   "cell_type": "code",
   "execution_count": 60,
   "metadata": {},
   "outputs": [
    {
     "ename": "IndexError",
     "evalue": "index 53 is out of bounds for axis 0 with size 53",
     "output_type": "error",
     "traceback": [
      "\u001b[0;31m---------------------------------------------------------------------------\u001b[0m",
      "\u001b[0;31mIndexError\u001b[0m                                Traceback (most recent call last)",
      "Input \u001b[0;32mIn [60]\u001b[0m, in \u001b[0;36m<cell line: 20>\u001b[0;34m()\u001b[0m\n\u001b[1;32m     20\u001b[0m \u001b[38;5;28;01mfor\u001b[39;00m r \u001b[38;5;129;01min\u001b[39;00m \u001b[38;5;28mrange\u001b[39m(n_lat):\n\u001b[1;32m     21\u001b[0m     \u001b[38;5;28;01mfor\u001b[39;00m c \u001b[38;5;129;01min\u001b[39;00m \u001b[38;5;28mrange\u001b[39m(n_lon):\n\u001b[0;32m---> 22\u001b[0m         \u001b[38;5;28;01mif\u001b[39;00m \u001b[43mstate_vector\u001b[49m\u001b[43m[\u001b[49m\u001b[43mr\u001b[49m\u001b[43m,\u001b[49m\u001b[43mc\u001b[49m\u001b[43m]\u001b[49m\u001b[38;5;241m.\u001b[39mvalues \u001b[38;5;241m==\u001b[39m \u001b[38;5;241m0\u001b[39m:\n\u001b[1;32m     23\u001b[0m             state_vector[r,c] \u001b[38;5;241m=\u001b[39m kmeans\u001b[38;5;241m.\u001b[39mpredict([[c,r]])[\u001b[38;5;241m0\u001b[39m] \u001b[38;5;241m+\u001b[39m count\n\u001b[1;32m     25\u001b[0m \u001b[38;5;66;03m# Add units attribute\u001b[39;00m\n",
      "File \u001b[0;32m/fs/site5/eccc/crd/ccmr/users/rsb001/conda/envs/geo/lib/python3.9/site-packages/xarray/core/dataarray.py:701\u001b[0m, in \u001b[0;36mDataArray.__getitem__\u001b[0;34m(self, key)\u001b[0m\n\u001b[1;32m    698\u001b[0m     \u001b[38;5;28;01mreturn\u001b[39;00m \u001b[38;5;28mself\u001b[39m\u001b[38;5;241m.\u001b[39m_getitem_coord(key)\n\u001b[1;32m    699\u001b[0m \u001b[38;5;28;01melse\u001b[39;00m:\n\u001b[1;32m    700\u001b[0m     \u001b[38;5;66;03m# xarray-style array indexing\u001b[39;00m\n\u001b[0;32m--> 701\u001b[0m     \u001b[38;5;28;01mreturn\u001b[39;00m \u001b[38;5;28;43mself\u001b[39;49m\u001b[38;5;241;43m.\u001b[39;49m\u001b[43misel\u001b[49m\u001b[43m(\u001b[49m\u001b[43mindexers\u001b[49m\u001b[38;5;241;43m=\u001b[39;49m\u001b[38;5;28;43mself\u001b[39;49m\u001b[38;5;241;43m.\u001b[39;49m\u001b[43m_item_key_to_dict\u001b[49m\u001b[43m(\u001b[49m\u001b[43mkey\u001b[49m\u001b[43m)\u001b[49m\u001b[43m)\u001b[49m\n",
      "File \u001b[0;32m/fs/site5/eccc/crd/ccmr/users/rsb001/conda/envs/geo/lib/python3.9/site-packages/xarray/core/dataarray.py:1106\u001b[0m, in \u001b[0;36mDataArray.isel\u001b[0;34m(self, indexers, drop, missing_dims, **indexers_kwargs)\u001b[0m\n\u001b[1;32m   1101\u001b[0m     \u001b[38;5;28;01mreturn\u001b[39;00m \u001b[38;5;28mself\u001b[39m\u001b[38;5;241m.\u001b[39m_from_temp_dataset(ds)\n\u001b[1;32m   1103\u001b[0m \u001b[38;5;66;03m# Much faster algorithm for when all indexers are ints, slices, one-dimensional\u001b[39;00m\n\u001b[1;32m   1104\u001b[0m \u001b[38;5;66;03m# lists, or zero or one-dimensional np.ndarray's\u001b[39;00m\n\u001b[0;32m-> 1106\u001b[0m variable \u001b[38;5;241m=\u001b[39m \u001b[38;5;28;43mself\u001b[39;49m\u001b[38;5;241;43m.\u001b[39;49m\u001b[43m_variable\u001b[49m\u001b[38;5;241;43m.\u001b[39;49m\u001b[43misel\u001b[49m\u001b[43m(\u001b[49m\u001b[43mindexers\u001b[49m\u001b[43m,\u001b[49m\u001b[43m \u001b[49m\u001b[43mmissing_dims\u001b[49m\u001b[38;5;241;43m=\u001b[39;49m\u001b[43mmissing_dims\u001b[49m\u001b[43m)\u001b[49m\n\u001b[1;32m   1108\u001b[0m coords \u001b[38;5;241m=\u001b[39m {}\n\u001b[1;32m   1109\u001b[0m \u001b[38;5;28;01mfor\u001b[39;00m coord_name, coord_value \u001b[38;5;129;01min\u001b[39;00m \u001b[38;5;28mself\u001b[39m\u001b[38;5;241m.\u001b[39m_coords\u001b[38;5;241m.\u001b[39mitems():\n",
      "File \u001b[0;32m/fs/site5/eccc/crd/ccmr/users/rsb001/conda/envs/geo/lib/python3.9/site-packages/xarray/core/variable.py:1120\u001b[0m, in \u001b[0;36mVariable.isel\u001b[0;34m(self, indexers, missing_dims, **indexers_kwargs)\u001b[0m\n\u001b[1;32m   1117\u001b[0m indexers \u001b[38;5;241m=\u001b[39m drop_dims_from_indexers(indexers, \u001b[38;5;28mself\u001b[39m\u001b[38;5;241m.\u001b[39mdims, missing_dims)\n\u001b[1;32m   1119\u001b[0m key \u001b[38;5;241m=\u001b[39m \u001b[38;5;28mtuple\u001b[39m(indexers\u001b[38;5;241m.\u001b[39mget(dim, \u001b[38;5;28mslice\u001b[39m(\u001b[38;5;28;01mNone\u001b[39;00m)) \u001b[38;5;28;01mfor\u001b[39;00m dim \u001b[38;5;129;01min\u001b[39;00m \u001b[38;5;28mself\u001b[39m\u001b[38;5;241m.\u001b[39mdims)\n\u001b[0;32m-> 1120\u001b[0m \u001b[38;5;28;01mreturn\u001b[39;00m \u001b[38;5;28;43mself\u001b[39;49m\u001b[43m[\u001b[49m\u001b[43mkey\u001b[49m\u001b[43m]\u001b[49m\n",
      "File \u001b[0;32m/fs/site5/eccc/crd/ccmr/users/rsb001/conda/envs/geo/lib/python3.9/site-packages/xarray/core/variable.py:769\u001b[0m, in \u001b[0;36mVariable.__getitem__\u001b[0;34m(self, key)\u001b[0m\n\u001b[1;32m    756\u001b[0m \u001b[38;5;124;03m\"\"\"Return a new Variable object whose contents are consistent with\u001b[39;00m\n\u001b[1;32m    757\u001b[0m \u001b[38;5;124;03mgetting the provided key from the underlying data.\u001b[39;00m\n\u001b[1;32m    758\u001b[0m \n\u001b[0;32m   (...)\u001b[0m\n\u001b[1;32m    766\u001b[0m \u001b[38;5;124;03marray `x.values` directly.\u001b[39;00m\n\u001b[1;32m    767\u001b[0m \u001b[38;5;124;03m\"\"\"\u001b[39;00m\n\u001b[1;32m    768\u001b[0m dims, indexer, new_order \u001b[38;5;241m=\u001b[39m \u001b[38;5;28mself\u001b[39m\u001b[38;5;241m.\u001b[39m_broadcast_indexes(key)\n\u001b[0;32m--> 769\u001b[0m data \u001b[38;5;241m=\u001b[39m \u001b[43mas_indexable\u001b[49m\u001b[43m(\u001b[49m\u001b[38;5;28;43mself\u001b[39;49m\u001b[38;5;241;43m.\u001b[39;49m\u001b[43m_data\u001b[49m\u001b[43m)\u001b[49m\u001b[43m[\u001b[49m\u001b[43mindexer\u001b[49m\u001b[43m]\u001b[49m\n\u001b[1;32m    770\u001b[0m \u001b[38;5;28;01mif\u001b[39;00m new_order:\n\u001b[1;32m    771\u001b[0m     data \u001b[38;5;241m=\u001b[39m duck_array_ops\u001b[38;5;241m.\u001b[39mmoveaxis(data, \u001b[38;5;28mrange\u001b[39m(\u001b[38;5;28mlen\u001b[39m(new_order)), new_order)\n",
      "File \u001b[0;32m/fs/site5/eccc/crd/ccmr/users/rsb001/conda/envs/geo/lib/python3.9/site-packages/xarray/core/indexing.py:1302\u001b[0m, in \u001b[0;36mNumpyIndexingAdapter.__getitem__\u001b[0;34m(self, key)\u001b[0m\n\u001b[1;32m   1300\u001b[0m \u001b[38;5;28;01mdef\u001b[39;00m \u001b[38;5;21m__getitem__\u001b[39m(\u001b[38;5;28mself\u001b[39m, key):\n\u001b[1;32m   1301\u001b[0m     array, key \u001b[38;5;241m=\u001b[39m \u001b[38;5;28mself\u001b[39m\u001b[38;5;241m.\u001b[39m_indexing_array_and_key(key)\n\u001b[0;32m-> 1302\u001b[0m     \u001b[38;5;28;01mreturn\u001b[39;00m \u001b[43marray\u001b[49m\u001b[43m[\u001b[49m\u001b[43mkey\u001b[49m\u001b[43m]\u001b[49m\n",
      "\u001b[0;31mIndexError\u001b[0m: index 53 is out of bounds for axis 0 with size 53"
     ]
    }
   ],
   "source": [
    "# Add buffer elements\n",
    "buffer_elements = np.abs((mask > 0) - 1).values\n",
    "\n",
    "# Get image coordinates of buffer elements\n",
    "irows = np.arange(buffer_elements.shape[0])\n",
    "icols = np.arange(buffer_elements.shape[1])\n",
    "irows = np.transpose(np.tile(irows,(len(icols),1)))\n",
    "icols = np.tile(icols,(len(irows),1)) * (buffer_elements > 0)\n",
    "\n",
    "# Select image coordinates of buffer elements\n",
    "irows_buffer = irows[buffer_elements > 0]\n",
    "icols_buffer = icols[buffer_elements > 0]\n",
    "coords = [[icols_buffer[j], irows_buffer[j]] for j in range(len(irows_buffer))]\n",
    "\n",
    "# Kmeans based on image coordinates\n",
    "X = np.array(coords)\n",
    "kmeans = KMeans(n_clusters=config['nBufferClusters'], random_state=0).fit(X)\n",
    "\n",
    "# Assign labels\n",
    "for r in range(n_lat):\n",
    "    for c in range(n_lon):\n",
    "        if state_vector[r,c].values == 0:\n",
    "            state_vector[r,c] = kmeans.predict([[c,r]])[0] + count\n",
    "\n",
    "# Add units attribute\n",
    "state_vector.attrs['units'] = 'none'\n",
    "state_vector\n",
    "            \n",
    "# Plot\n",
    "f, ax = plt.subplots(subplot_kw=dict(projection=ccrs.PlateCarree()))\n",
    "state_vector.plot(\n",
    "    ax=ax,\n",
    "    transform=ccrs.PlateCarree(),\n",
    "    cmap=cc.cm.glasbey,\n",
    "    add_colorbar=False,\n",
    ")\n",
    "ax.coastlines();"
   ]
  },
  {
   "cell_type": "code",
   "execution_count": null,
   "metadata": {},
   "outputs": [],
   "source": [
    "# Now set pixels over water to missing_value = -9999\n",
    "if config['LandThreshold']:\n",
    "    state_vector.values[state_vector.isnull()] = -9999"
   ]
  },
  {
   "cell_type": "markdown",
   "metadata": {},
   "source": [
    "## Save the state vector to netcdf"
   ]
  },
  {
   "cell_type": "code",
   "execution_count": null,
   "metadata": {},
   "outputs": [],
   "source": [
    "# Create dataset\n",
    "ds_state_vector = xr.Dataset(\n",
    "                {\n",
    "                    \"StateVector\": ([\"lat\", \"lon\"], state_vector),\n",
    "                },\n",
    "                coords={\n",
    "                    \"lon\": (\"lon\", new_lon_grid),\n",
    "                    \"lat\": (\"lat\", new_lat_grid),\n",
    "                },\n",
    "                \n",
    "                )\n",
    "\n",
    "# Add attribute metadata\n",
    "ds_state_vector.lat.attrs['units'] = 'degrees_north'\n",
    "ds_state_vector.lat.attrs['long_name'] = 'Latitude'\n",
    "ds_state_vector.lon.attrs['units'] = 'degrees_east'\n",
    "ds_state_vector.lon.attrs['long_name'] = 'Longitude'\n",
    "ds_state_vector.StateVector.attrs['units'] = 'none'\n",
    "ds_state_vector.StateVector.attrs['missing_value'] = -9999\n",
    "ds_state_vector.StateVector.attrs['_FillValue'] = -9999\n",
    "ds_state_vector"
   ]
  },
  {
   "cell_type": "code",
   "execution_count": null,
   "metadata": {},
   "outputs": [],
   "source": [
    "# Count elements\n",
    "num_elements = int(state_vector.max().values)\n",
    "print('State vector has',num_elements,'emission elements')"
   ]
  },
  {
   "cell_type": "code",
   "execution_count": null,
   "metadata": {},
   "outputs": [],
   "source": [
    "# Save\n",
    "save = False # Switch to True if you wish to save the state vector file\n",
    "\n",
    "if save:\n",
    "    save_pth = config[\"StateVectorFile\"]\n",
    "    ds_state_vector.to_netcdf(\"\")"
   ]
  },
  {
   "cell_type": "markdown",
   "metadata": {},
   "source": [
    "----"
   ]
  }
 ],
 "metadata": {
  "kernelspec": {
   "display_name": "Python 3 (ipykernel)",
   "language": "python",
   "name": "python3"
  },
  "language_info": {
   "codemirror_mode": {
    "name": "ipython",
    "version": 3
   },
   "file_extension": ".py",
   "mimetype": "text/x-python",
   "name": "python",
   "nbconvert_exporter": "python",
   "pygments_lexer": "ipython3",
   "version": "3.9.1"
  }
 },
 "nbformat": 4,
 "nbformat_minor": 4
}
